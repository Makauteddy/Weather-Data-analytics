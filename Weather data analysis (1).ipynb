{
 "cells": [
  {
   "cell_type": "code",
   "execution_count": null,
   "id": "bc83aa8a-dced-46e7-9892-5228a3aa1f12",
   "metadata": {},
   "outputs": [],
   "source": [
    "import pandas as pd\n",
    "import numpy as np"
   ]
  },
  {
   "cell_type": "code",
   "execution_count": 47,
   "id": "9bff014d-571f-4b53-bfdf-144410536959",
   "metadata": {},
   "outputs": [],
   "source": [
    "#Reading the whole dataset\n",
    "\n",
    "dataset=pd.read_csv('C:\\\\Users\\ADMIN\\\\Downloads\\\\Weather Data.csv')"
   ]
  },
  {
   "cell_type": "code",
   "execution_count": 48,
   "id": "89f81c7c-b887-4ae5-bc85-9bcc7de7b754",
   "metadata": {},
   "outputs": [
    {
     "data": {
      "text/html": [
       "<div>\n",
       "<style scoped>\n",
       "    .dataframe tbody tr th:only-of-type {\n",
       "        vertical-align: middle;\n",
       "    }\n",
       "\n",
       "    .dataframe tbody tr th {\n",
       "        vertical-align: top;\n",
       "    }\n",
       "\n",
       "    .dataframe thead th {\n",
       "        text-align: right;\n",
       "    }\n",
       "</style>\n",
       "<table border=\"1\" class=\"dataframe\">\n",
       "  <thead>\n",
       "    <tr style=\"text-align: right;\">\n",
       "      <th></th>\n",
       "      <th>Date/Time</th>\n",
       "      <th>Temp_C</th>\n",
       "      <th>Dew Point Temp_C</th>\n",
       "      <th>Rel Hum_%</th>\n",
       "      <th>Wind Speed_km/h</th>\n",
       "      <th>Visibility_km</th>\n",
       "      <th>Press_kPa</th>\n",
       "      <th>Weather</th>\n",
       "    </tr>\n",
       "  </thead>\n",
       "  <tbody>\n",
       "    <tr>\n",
       "      <th>0</th>\n",
       "      <td>1/1/2012 0:00</td>\n",
       "      <td>-1.8</td>\n",
       "      <td>-3.9</td>\n",
       "      <td>86</td>\n",
       "      <td>4</td>\n",
       "      <td>8.0</td>\n",
       "      <td>101.24</td>\n",
       "      <td>Fog</td>\n",
       "    </tr>\n",
       "    <tr>\n",
       "      <th>1</th>\n",
       "      <td>1/1/2012 1:00</td>\n",
       "      <td>-1.8</td>\n",
       "      <td>-3.7</td>\n",
       "      <td>87</td>\n",
       "      <td>4</td>\n",
       "      <td>8.0</td>\n",
       "      <td>101.24</td>\n",
       "      <td>Fog</td>\n",
       "    </tr>\n",
       "    <tr>\n",
       "      <th>2</th>\n",
       "      <td>1/1/2012 2:00</td>\n",
       "      <td>-1.8</td>\n",
       "      <td>-3.4</td>\n",
       "      <td>89</td>\n",
       "      <td>7</td>\n",
       "      <td>4.0</td>\n",
       "      <td>101.26</td>\n",
       "      <td>Freezing Drizzle,Fog</td>\n",
       "    </tr>\n",
       "    <tr>\n",
       "      <th>3</th>\n",
       "      <td>1/1/2012 3:00</td>\n",
       "      <td>-1.5</td>\n",
       "      <td>-3.2</td>\n",
       "      <td>88</td>\n",
       "      <td>6</td>\n",
       "      <td>4.0</td>\n",
       "      <td>101.27</td>\n",
       "      <td>Freezing Drizzle,Fog</td>\n",
       "    </tr>\n",
       "    <tr>\n",
       "      <th>4</th>\n",
       "      <td>1/1/2012 4:00</td>\n",
       "      <td>-1.5</td>\n",
       "      <td>-3.3</td>\n",
       "      <td>88</td>\n",
       "      <td>7</td>\n",
       "      <td>4.8</td>\n",
       "      <td>101.23</td>\n",
       "      <td>Fog</td>\n",
       "    </tr>\n",
       "  </tbody>\n",
       "</table>\n",
       "</div>"
      ],
      "text/plain": [
       "       Date/Time  Temp_C  Dew Point Temp_C  Rel Hum_%  Wind Speed_km/h  \\\n",
       "0  1/1/2012 0:00    -1.8              -3.9         86                4   \n",
       "1  1/1/2012 1:00    -1.8              -3.7         87                4   \n",
       "2  1/1/2012 2:00    -1.8              -3.4         89                7   \n",
       "3  1/1/2012 3:00    -1.5              -3.2         88                6   \n",
       "4  1/1/2012 4:00    -1.5              -3.3         88                7   \n",
       "\n",
       "   Visibility_km  Press_kPa               Weather  \n",
       "0            8.0     101.24                   Fog  \n",
       "1            8.0     101.24                   Fog  \n",
       "2            4.0     101.26  Freezing Drizzle,Fog  \n",
       "3            4.0     101.27  Freezing Drizzle,Fog  \n",
       "4            4.8     101.23                   Fog  "
      ]
     },
     "execution_count": 48,
     "metadata": {},
     "output_type": "execute_result"
    }
   ],
   "source": [
    "#Displaying the first rows of the dataset\n",
    "\n",
    "dataset.head()"
   ]
  },
  {
   "cell_type": "code",
   "execution_count": 23,
   "id": "76d94980-6176-4ce5-91db-a8a389cf3a6b",
   "metadata": {},
   "outputs": [
    {
     "name": "stdout",
     "output_type": "stream",
     "text": [
      "             Date/Time  Temp_C  Dew Point Temp_C  Rel Hum_%  Wind Speed_km/h  \\\n",
      "67      1/3/2012 19:00   -16.9             -24.8         50               24   \n",
      "114     1/5/2012 18:00    -7.1             -14.4         56               11   \n",
      "115     1/5/2012 19:00    -9.2             -15.4         61                7   \n",
      "116     1/5/2012 20:00    -9.8             -15.7         62                9   \n",
      "117     1/5/2012 21:00    -9.0             -14.8         63               13   \n",
      "...                ...     ...               ...        ...              ...   \n",
      "8646   12/26/2012 6:00   -13.4             -14.8         89                4   \n",
      "8698  12/28/2012 10:00    -6.1              -8.6         82               19   \n",
      "8713   12/29/2012 1:00   -11.9             -13.6         87               11   \n",
      "8714   12/29/2012 2:00   -11.8             -13.1         90               13   \n",
      "8756  12/30/2012 20:00   -13.8             -16.5         80               24   \n",
      "\n",
      "      Visibility_km  Press_kPa Weather  \n",
      "67             25.0     101.74   Clear  \n",
      "114            25.0     100.71   Clear  \n",
      "115            25.0     100.80   Clear  \n",
      "116            25.0     100.83   Clear  \n",
      "117            25.0     100.83   Clear  \n",
      "...             ...        ...     ...  \n",
      "8646           25.0     102.47   Clear  \n",
      "8698           24.1     101.27   Clear  \n",
      "8713           25.0     101.31   Clear  \n",
      "8714           25.0     101.33   Clear  \n",
      "8756           25.0     101.52   Clear  \n",
      "\n",
      "[1326 rows x 8 columns]\n"
     ]
    }
   ],
   "source": [
    "#Finding all records where the weather was clear\n",
    "\n",
    "clear_weather_records=dataset[dataset['Weather']=='Clear']\n",
    "print(clear_weather_records)"
   ]
  },
  {
   "cell_type": "code",
   "execution_count": 31,
   "id": "6ceff539-2d1c-482d-b663-ad0bb46b6198",
   "metadata": {},
   "outputs": [
    {
     "name": "stdout",
     "output_type": "stream",
     "text": [
      "474\n"
     ]
    }
   ],
   "source": [
    "#Finding the number of times the wind speed was exactly 4km/hr.\n",
    "\n",
    "wind_speed_4km_hr_count=dataset[dataset['Wind Speed_km/h']==4].shape[0]\t\n",
    "print(wind_speed_4km_hr_count )"
   ]
  },
  {
   "cell_type": "code",
   "execution_count": 34,
   "id": "ede01c1b-a6e9-45b0-b317-598d7ea2e61f",
   "metadata": {},
   "outputs": [
    {
     "name": "stdout",
     "output_type": "stream",
     "text": [
      "Date/Time           0\n",
      "Temp_C              0\n",
      "Dew Point Temp_C    0\n",
      "Rel Hum_%           0\n",
      "Wind Speed_km/h     0\n",
      "Visibility_km       0\n",
      "Press_kPa           0\n",
      "Weather             0\n",
      "dtype: int64\n"
     ]
    }
   ],
   "source": [
    "null_values = dataset.isnull().sum()\n",
    "print(null_values)"
   ]
  },
  {
   "cell_type": "code",
   "execution_count": 49,
   "id": "4ee5c874-cdb2-40f0-9b24-cf5898d7af30",
   "metadata": {
    "scrolled": true
   },
   "outputs": [
    {
     "name": "stdout",
     "output_type": "stream",
     "text": [
      "       Date/Time  Temp_C  Dew Point Temp_C  Rel Hum_%  Wind Speed_km/h  \\\n",
      "0  1/1/2012 0:00    -1.8              -3.9         86                4   \n",
      "1  1/1/2012 1:00    -1.8              -3.7         87                4   \n",
      "2  1/1/2012 2:00    -1.8              -3.4         89                7   \n",
      "3  1/1/2012 3:00    -1.5              -3.2         88                6   \n",
      "4  1/1/2012 4:00    -1.5              -3.3         88                7   \n",
      "\n",
      "   Visibility_km  Press_kPa     Weather_Condition  \n",
      "0            8.0     101.24                   Fog  \n",
      "1            8.0     101.24                   Fog  \n",
      "2            4.0     101.26  Freezing Drizzle,Fog  \n",
      "3            4.0     101.27  Freezing Drizzle,Fog  \n",
      "4            4.8     101.23                   Fog  \n"
     ]
    }
   ],
   "source": [
    "#Renaming the column \"weather\" to \"weather_conditions\"\n",
    "\n",
    "dataset.rename(columns={'Weather': 'Weather_Condition'}, inplace=True)\n",
    "\n",
    "#To display the dataset to  verify the change\n",
    "\n",
    "print(dataset.head())"
   ]
  },
  {
   "cell_type": "code",
   "execution_count": 13,
   "id": "06f30895-e56d-46e1-960b-5f8b21c854e7",
   "metadata": {},
   "outputs": [
    {
     "name": "stdout",
     "output_type": "stream",
     "text": [
      "27.664446721311478\n"
     ]
    }
   ],
   "source": [
    "# To find the mean visibility of the dataset\n",
    "\n",
    "mean_visibility=dataset['Visibility_km'].mean()\n",
    "print(mean_visibility)"
   ]
  },
  {
   "cell_type": "code",
   "execution_count": 20,
   "id": "68748e6f-3f0c-4880-aed6-ba9000f1f873",
   "metadata": {},
   "outputs": [
    {
     "name": "stdout",
     "output_type": "stream",
     "text": [
      "308\n"
     ]
    }
   ],
   "source": [
    "#Finding the number of records where the wind speed is greater than 24km/hr and visibility is equal to 25km\n",
    "\n",
    "records=dataset[(dataset['Wind Speed_km/h'] > 24) & (dataset['Visibility_km']==25)]\n",
    "count_records=records.shape[0]\n",
    "print(count_records)"
   ]
  },
  {
   "cell_type": "code",
   "execution_count": 58,
   "id": "1c2a3207-1950-4b7f-90f6-a59e4b013ae8",
   "metadata": {},
   "outputs": [
    {
     "name": "stdout",
     "output_type": "stream",
     "text": [
      "             Date/Time  Temp_C  Dew Point Temp_C  Rel Hum_%  Wind Speed_km/h  \\\n",
      "114     1/5/2012 18:00    -7.1             -14.4         56               11   \n",
      "115     1/5/2012 19:00    -9.2             -15.4         61                7   \n",
      "116     1/5/2012 20:00    -9.8             -15.7         62                9   \n",
      "117     1/5/2012 21:00    -9.0             -14.8         63               13   \n",
      "241     1/11/2012 1:00   -10.7             -17.8         56               17   \n",
      "...                ...     ...               ...        ...              ...   \n",
      "8646   12/26/2012 6:00   -13.4             -14.8         89                4   \n",
      "8698  12/28/2012 10:00    -6.1              -8.6         82               19   \n",
      "8713   12/29/2012 1:00   -11.9             -13.6         87               11   \n",
      "8714   12/29/2012 2:00   -11.8             -13.1         90               13   \n",
      "8756  12/30/2012 20:00   -13.8             -16.5         80               24   \n",
      "\n",
      "      Visibility_km  Press_kPa Weather_Condition  \n",
      "114            25.0     100.71             Clear  \n",
      "115            25.0     100.80             Clear  \n",
      "116            25.0     100.83             Clear  \n",
      "117            25.0     100.83             Clear  \n",
      "241            25.0     101.49             Clear  \n",
      "...             ...        ...               ...  \n",
      "8646           25.0     102.47             Clear  \n",
      "8698           24.1     101.27             Clear  \n",
      "8713           25.0     101.31             Clear  \n",
      "8714           25.0     101.33             Clear  \n",
      "8756           25.0     101.52             Clear  \n",
      "\n",
      "[1220 rows x 8 columns]\n"
     ]
    }
   ],
   "source": [
    "#All instances where the weather is clearand the relative humidity is greater than 50 or visibility is above 40\n",
    "\n",
    "dataset['Weather_Condition']=dataset['Weather_Condition'].astype(str)\n",
    "filter_dataset=dataset[(dataset['Weather_Condition']=='Clear')&((dataset['Rel Hum_%']>50) |(dataset['Visibility_km']>40))]\n",
    "print(filter_dataset)"
   ]
  },
  {
   "cell_type": "code",
   "execution_count": 65,
   "id": "73e388c4-7fec-4244-81b4-234e8d6f5213",
   "metadata": {},
   "outputs": [
    {
     "name": "stdout",
     "output_type": "stream",
     "text": [
      "19\n"
     ]
    }
   ],
   "source": [
    "dataset['Weather_Condition']=dataset['Weather_Condition'].astype(str)\n",
    "snow=dataset[dataset['Weather_Condition'].str.contains('snow', case=False, na=False)]\n",
    "snow_condition=snow['Weather_Condition'].unique()\n",
    "num_of_snow=len(snow_condition)\n",
    "print(num_of_snow)"
   ]
  },
  {
   "cell_type": "code",
   "execution_count": null,
   "id": "84838ab5-4060-4c81-84ac-5d283df3dbaa",
   "metadata": {},
   "outputs": [],
   "source": []
  }
 ],
 "metadata": {
  "kernelspec": {
   "display_name": "Python 3 (ipykernel)",
   "language": "python",
   "name": "python3"
  },
  "language_info": {
   "codemirror_mode": {
    "name": "ipython",
    "version": 3
   },
   "file_extension": ".py",
   "mimetype": "text/x-python",
   "name": "python",
   "nbconvert_exporter": "python",
   "pygments_lexer": "ipython3",
   "version": "3.11.7"
  }
 },
 "nbformat": 4,
 "nbformat_minor": 5
}
